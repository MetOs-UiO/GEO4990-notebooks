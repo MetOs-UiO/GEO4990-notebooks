{
 "cells": [
  {
   "cell_type": "markdown",
   "metadata": {},
   "source": [
    "# **Jupyter Notebooks**\n",
    "\n",
    "Jupyter Notebooks are browser-based computational environments, which can execute code of different programming languages within one \"notebook\". This includes languages such as python, but also [Markdown](https://www.markdownguide.org/cheat-sheet/) for text and formulas (use TeX syntax). They are constructed by cells, which you can execute individually or consecutively in a row. \
     The standard output panel of each cell is within the notebook. With this, you can interactively display different content: the code's output, i.e. text, formulas, (interactive) 2D/3D/4D plots or content from urls, such as images or videos. Therefor, notebooks are especially well suited for classes and presentating research results, as they can nicely display backgrounds, code and results all in one flow. \
     The possibilities are endless, explore a bit on your own!\n",
    "\n",
    "To assign the type of a cell, i.e. Code/Markdown/Raw, choose accordingly in the notebook's tab above. "
   ]
  },
  {
   "cell_type": "markdown",
   "metadata": {},
   "source": [
    "## Cells\n",
    "\n",
    "You can execute one or several cells by marking them and pressing the play button in the tab above. The stop execution button is right next to it. You can find exemmplary content of cells and keyboard shortcuts further down.\n",
    "\n",
    "There are two modes in a notebook: \n",
    "1. **editing mode**: activated by clicking into a cell\n",
    "2. **execution mode**: activated by clicking out of the cells"
   ]
  },
  {
   "cell_type": "markdown",
   "metadata": {},
   "source": [
    "Some Cell Examples:"
   ]
  },
  {
   "cell_type": "code",
   "execution_count": 3,
   "metadata": {
    "collapsed": false,
    "jupyter": {
     "outputs_hidden": false
    }
   },
   "outputs": [
    {
     "data": {
      "text/plain": [
       "[<matplotlib.lines.Line2D at 0x7ff7f34d1f28>]"
      ]
     },
     "execution_count": 3,
     "metadata": {},
     "output_type": "execute_result"
    },
    {
     "data": {
      "image/png": "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\n",
      "text/plain": [
       "<Figure size 432x288 with 1 Axes>"
      ]
     },
     "metadata": {
      "needs_background": "light"
     },
     "output_type": "display_data"
    }
   ],
   "source": [
    "# this is a cell with python code\n",
    "\n",
    "# this keeps the cell output (results, graphs, images..) under the cell even if you close the notebook\n",
    "%matplotlib inline \n",
    "# import the python packages that you want to use further down\n",
    "import matplotlib.pyplot as plt\n",
    "import numpy as np\n",
    "\n",
    "# some example code and plot\n",
    "x = np.linspace(-10, 15, 25)\n",
    "y = x ** 2\n",
    "plt.plot(x, y)"
   ]
  },
  {
   "cell_type": "code",
   "execution_count": 4,
   "metadata": {
    "collapsed": false,
    "jupyter": {
     "outputs_hidden": false
    }
   },
   "outputs": [
    {
     "data": {
      "text/plain": [
       "5.0"
      ]
     },
     "execution_count": 4,
     "metadata": {},
     "output_type": "execute_result"
    }
   ],
   "source": [
    "#set variables\n",
    "a = 1.0\n",
    "b = 0.2\n",
    "\n",
    "a / b"
   ]
  },
  {
   "cell_type": "markdown",
   "metadata": {},
   "source": [
    "Incorporating formulas:\n",
    "$\n",
    "\\Delta T = T_1 - T_2\n",
    "$"
   ]
  },
  {
   "cell_type": "code",
   "execution_count": 5,
   "metadata": {
    "collapsed": false,
    "jupyter": {
     "outputs_hidden": false
    }
   },
   "outputs": [
    {
     "data": {
      "text/html": [
       "<img src=\"https://www.mn.uio.no/geo/images/bannere-fremside/framsidebilder-institutt-for-geofag-uio-1200-514px/photo-field-students-svalbard-new-alouette-van-hove-1395-314px.jpg\"/>"
      ],
      "text/plain": [
       "<IPython.core.display.Image object>"
      ]
     },
     "execution_count": 5,
     "metadata": {},
     "output_type": "execute_result"
    }
   ],
   "source": [
    "# another python code example:\n",
    "# here, we import the function \"Image\" from the module \"display\" of the package \"IPython\"\n",
    "from IPython.display import Image\n",
    "Image(url='https://www.mn.uio.no/geo/images/bannere-fremside/framsidebilder-institutt-for-geofag-uio-1200-514px/photo-field-students-svalbard-new-alouette-van-hove-1395-314px.jpg')"
   ]
  },
  {
   "cell_type": "markdown",
   "metadata": {},
   "source": [
    "# Useful tricks"
   ]
  },
  {
   "cell_type": "markdown",
   "metadata": {},
   "source": [
    "Get an overview of defined objects:"
   ]
  },
  {
   "cell_type": "code",
   "execution_count": 6,
   "metadata": {
    "collapsed": false,
    "jupyter": {
     "outputs_hidden": false
    }
   },
   "outputs": [
    {
     "name": "stdout",
     "output_type": "stream",
     "text": [
      "Variable   Type       Data/Info\n",
      "-------------------------------\n",
      "Image      type       <class 'IPython.core.display.Image'>\n",
      "a          float      1.0\n",
      "b          float      0.2\n",
      "np         module     <module 'numpy' from '/op<...>kages/numpy/__init__.py'>\n",
      "plt        module     <module 'matplotlib.pyplo<...>es/matplotlib/pyplot.py'>\n",
      "x          ndarray    25: 25 elems, type `float64`, 200 bytes\n",
      "y          ndarray    25: 25 elems, type `float64`, 200 bytes\n"
     ]
    }
   ],
   "source": [
    "%whos"
   ]
  },
  {
   "cell_type": "markdown",
   "metadata": {},
   "source": [
    "Get help:"
   ]
  },
  {
   "cell_type": "code",
   "execution_count": 7,
   "metadata": {
    "collapsed": false,
    "jupyter": {
     "outputs_hidden": false
    }
   },
   "outputs": [
    {
     "data": {
      "text/plain": [
       "\u001b[0;31mSignature:\u001b[0m\n",
       "\u001b[0mnp\u001b[0m\u001b[0;34m.\u001b[0m\u001b[0mlinspace\u001b[0m\u001b[0;34m(\u001b[0m\u001b[0;34m\u001b[0m\n",
       "\u001b[0;34m\u001b[0m    \u001b[0mstart\u001b[0m\u001b[0;34m,\u001b[0m\u001b[0;34m\u001b[0m\n",
       "\u001b[0;34m\u001b[0m    \u001b[0mstop\u001b[0m\u001b[0;34m,\u001b[0m\u001b[0;34m\u001b[0m\n",
       "\u001b[0;34m\u001b[0m    \u001b[0mnum\u001b[0m\u001b[0;34m=\u001b[0m\u001b[0;36m50\u001b[0m\u001b[0;34m,\u001b[0m\u001b[0;34m\u001b[0m\n",
       "\u001b[0;34m\u001b[0m    \u001b[0mendpoint\u001b[0m\u001b[0;34m=\u001b[0m\u001b[0;32mTrue\u001b[0m\u001b[0;34m,\u001b[0m\u001b[0;34m\u001b[0m\n",
       "\u001b[0;34m\u001b[0m    \u001b[0mretstep\u001b[0m\u001b[0;34m=\u001b[0m\u001b[0;32mFalse\u001b[0m\u001b[0;34m,\u001b[0m\u001b[0;34m\u001b[0m\n",
       "\u001b[0;34m\u001b[0m    \u001b[0mdtype\u001b[0m\u001b[0;34m=\u001b[0m\u001b[0;32mNone\u001b[0m\u001b[0;34m,\u001b[0m\u001b[0;34m\u001b[0m\n",
       "\u001b[0;34m\u001b[0m    \u001b[0maxis\u001b[0m\u001b[0;34m=\u001b[0m\u001b[0;36m0\u001b[0m\u001b[0;34m,\u001b[0m\u001b[0;34m\u001b[0m\n",
       "\u001b[0;34m\u001b[0m\u001b[0;34m)\u001b[0m\u001b[0;34m\u001b[0m\u001b[0;34m\u001b[0m\u001b[0m\n",
       "\u001b[0;31mDocstring:\u001b[0m\n",
       "Return evenly spaced numbers over a specified interval.\n",
       "\n",
       "Returns `num` evenly spaced samples, calculated over the\n",
       "interval [`start`, `stop`].\n",
       "\n",
       "The endpoint of the interval can optionally be excluded.\n",
       "\n",
       ".. versionchanged:: 1.16.0\n",
       "    Non-scalar `start` and `stop` are now supported.\n",
       "\n",
       "Parameters\n",
       "----------\n",
       "start : array_like\n",
       "    The starting value of the sequence.\n",
       "stop : array_like\n",
       "    The end value of the sequence, unless `endpoint` is set to False.\n",
       "    In that case, the sequence consists of all but the last of ``num + 1``\n",
       "    evenly spaced samples, so that `stop` is excluded.  Note that the step\n",
       "    size changes when `endpoint` is False.\n",
       "num : int, optional\n",
       "    Number of samples to generate. Default is 50. Must be non-negative.\n",
       "endpoint : bool, optional\n",
       "    If True, `stop` is the last sample. Otherwise, it is not included.\n",
       "    Default is True.\n",
       "retstep : bool, optional\n",
       "    If True, return (`samples`, `step`), where `step` is the spacing\n",
       "    between samples.\n",
       "dtype : dtype, optional\n",
       "    The type of the output array.  If `dtype` is not given, infer the data\n",
       "    type from the other input arguments.\n",
       "\n",
       "    .. versionadded:: 1.9.0\n",
       "\n",
       "axis : int, optional\n",
       "    The axis in the result to store the samples.  Relevant only if start\n",
       "    or stop are array-like.  By default (0), the samples will be along a\n",
       "    new axis inserted at the beginning. Use -1 to get an axis at the end.\n",
       "\n",
       "    .. versionadded:: 1.16.0\n",
       "\n",
       "Returns\n",
       "-------\n",
       "samples : ndarray\n",
       "    There are `num` equally spaced samples in the closed interval\n",
       "    ``[start, stop]`` or the half-open interval ``[start, stop)``\n",
       "    (depending on whether `endpoint` is True or False).\n",
       "step : float, optional\n",
       "    Only returned if `retstep` is True\n",
       "\n",
       "    Size of spacing between samples.\n",
       "\n",
       "\n",
       "See Also\n",
       "--------\n",
       "arange : Similar to `linspace`, but uses a step size (instead of the\n",
       "         number of samples).\n",
       "geomspace : Similar to `linspace`, but with numbers spaced evenly on a log\n",
       "            scale (a geometric progression).\n",
       "logspace : Similar to `geomspace`, but with the end points specified as\n",
       "           logarithms.\n",
       "\n",
       "Examples\n",
       "--------\n",
       ">>> np.linspace(2.0, 3.0, num=5)\n",
       "array([2.  , 2.25, 2.5 , 2.75, 3.  ])\n",
       ">>> np.linspace(2.0, 3.0, num=5, endpoint=False)\n",
       "array([2. ,  2.2,  2.4,  2.6,  2.8])\n",
       ">>> np.linspace(2.0, 3.0, num=5, retstep=True)\n",
       "(array([2.  ,  2.25,  2.5 ,  2.75,  3.  ]), 0.25)\n",
       "\n",
       "Graphical illustration:\n",
       "\n",
       ">>> import matplotlib.pyplot as plt\n",
       ">>> N = 8\n",
       ">>> y = np.zeros(N)\n",
       ">>> x1 = np.linspace(0, 10, N, endpoint=True)\n",
       ">>> x2 = np.linspace(0, 10, N, endpoint=False)\n",
       ">>> plt.plot(x1, y, 'o')\n",
       "[<matplotlib.lines.Line2D object at 0x...>]\n",
       ">>> plt.plot(x2, y + 0.5, 'o')\n",
       "[<matplotlib.lines.Line2D object at 0x...>]\n",
       ">>> plt.ylim([-0.5, 1])\n",
       "(-0.5, 1)\n",
       ">>> plt.show()\n",
       "\u001b[0;31mFile:\u001b[0m      /opt/conda/lib/python3.7/site-packages/numpy/core/function_base.py\n",
       "\u001b[0;31mType:\u001b[0m      function\n"
      ]
     },
     "metadata": {},
     "output_type": "display_data"
    }
   ],
   "source": [
    "np.linspace?"
   ]
  },
  {
   "cell_type": "markdown",
   "metadata": {},
   "source": [
    "## Keyboard Shortcuts\n",
    "\n",
    "Executing a cell: *Shift + Enter* <br>\n",
    "Move cells with the cursor <br>\n",
    "\n",
    "**editing mode**\n",
    "enter editing mode from command mode: *enter*<br>\n",
    "show documentation of something you have just typed: *shift + tab*<br>\n",
    "autofill what you just typed: *shift*<br>\n",
    "split current cell where your cursor is: *ctrl+ shift+ -*<br>\n",
    "\n",
    "**command mode**\n",
    "Enter command mode: *Esc* <br>\n",
    "Navigating in command mode: use arrow keys<br>\n",
    "insert a cell above: *a*<br>\n",
    "insert a cell below: *b*<br>\n",
    "delete current cell: *x*<br>\n",
    "\n",
    "Find more that makes your life easier and prettier [here](https://www.dataquest.io/blog/jupyter-notebook-tips-tricks-shortcuts/)."
   ]
  }
 ],
 "metadata": {
  "kernelspec": {
   "display_name": "Python 3",
   "language": "python",
   "name": "python3"
  },
  "language_info": {
   "codemirror_mode": {
    "name": "ipython",
    "version": 3
   },
   "file_extension": ".py",
   "mimetype": "text/x-python",
   "name": "python",
   "nbconvert_exporter": "python",
   "pygments_lexer": "ipython3",
   "version": "3.7.3"
  }
 },
 "nbformat": 4,
 "nbformat_minor": 4
}
