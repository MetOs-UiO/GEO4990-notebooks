{
 "cells": [
  {
   "cell_type": "markdown",
   "metadata": {},
   "source": [
    "# **Introduction on climate models**"
   ]
  },
  {
   "cell_type": "markdown",
   "metadata": {},
   "source": [
    "## CMIP - The Coupled Model Intercomparison Project\n",
    "\n",
    "The Coupled Model Intercomparison Project ([CMIP](https://www.wcrp-climate.org/wgcm-cmip)) organized under the auspices of the World Climate Research Programme’s ([WCRP](https://www.wcrp-climate.org/)) Working Group on Coupled Modelling ([WGCM](https://www.wcrp-climate.org/ipo-esmo-groups/modelling-wgcm)) started in 1995. \n",
    "\n",
    "The objective of CMIP is to better understand past, present, and future climate change arising from natural, unforced variability or in response to changes in radiative forcings in a multi-model context. This understanding includes assessments of model performance during the historical period and quantifications of the causes of the spread in future projections under different future scenarios."
   ]
  },
  {
   "cell_type": "markdown",
   "metadata": {},
   "source": [
    "## CMIP6 - Coupled Model Intercomparison Project Phase 6 and the Model Intercomparison Projects (MIPs)\n",
    "CMIP6 in its undergoing phase started in 2015.\n",
    "\n",
    "[CMIP6 overview paper: Eyring et al., 2016](https://gmd.copernicus.org/articles/9/1937/2016/gmd-9-1937-2016.html) \\\n",
    "[CMIP6 scenario overview paper: O’Neill et al., 2016](https://gmd.copernicus.org/articles/9/3461/2016/gmd-9-3461-2016.pdf)\n",
    "\n",
    "For the first time, CMIP6  endorsed [Model Intercomparison Projects (MIPs)](https://wcrp-cmip.org/model-intercomparison-projects-mips/) to address specific science questions across the climate and earth science communities, which build on the DECK and CMIP historical simulations and fill the scientific gaps of the previous CMIP phases. "
   ]
  },
  {
   "cell_type": "markdown",
   "metadata": {},
   "source": [
    "**Schematic view of the CMIP6 experiment design:**"
   ]
  },
  {
   "cell_type": "markdown",
   "metadata": {},
   "source": [
    "<img src=\"https://wcrp-cmip.org/wp-content/uploads/2023/05/CMIP6_editted-2-1024x889.png\" width=600> ([Eyring et al., 2016](https://gmd.copernicus.org/articles/9/1937/2016/gmd-9-1937-2016.html))"
   ]
  },
  {
   "cell_type": "markdown",
   "metadata": {},
   "source": [
    "- The DECK and CMIP historical simulations in the inner ring are standard experiments, together with the use of CMIP data standards, are the entry cards for models participating in CMIP. \n",
    "- Participating in specific MIPs in the middle ring and outer ring are chosen by individual modelling groups at their own discretion and depends on their scientific interests and priorities. "
   ]
  },
  {
   "cell_type": "markdown",
   "metadata": {},
   "source": [
    "# **CMIP6 Models**"
   ]
  },
  {
   "cell_type": "markdown",
   "metadata": {},
   "source": [
    "## CESM\n",
    "The [Community Earth System Model (CESM)](https://www.cesm.ucar.edu/) is a fully-coupled, community, global climate model that provides state-of-the-art computer simulations of the Earth’s past, present, and future climate states."
   ]
  },
  {
   "cell_type": "markdown",
   "metadata": {},
   "source": [
    "\n",
    "<img src=\"https://agupubs.onlinelibrary.wiley.com/cms/asset/76fed0f1-8308-4441-9051-6daf86033928/jame21064-fig-0001-m.jpg\" width=\"600\"> ([Danabasoglu et al., 2020](https://agupubs.onlinelibrary.wiley.com/doi/full/10.1029/2019MS001916))"
   ]
  },
  {
   "cell_type": "markdown",
   "metadata": {},
   "source": [
    "Some facts about CESM:\n",
    "*   Written in Fortran 90\n",
    "*   About 900 000 lines of Fortran 90 code\n",
    "*   About 12,000 lines of scripts that configure, build, and run the model\n",
    "*   Parallelized with [MPI](http://www.mpi-forum.org/) (Message Passing Interface) and [OpenMP](http://openmp.org/) (Open Multi-Processing)\n",
    "*   To keep track of code changes, CESM developers currently use [git](https://en.wikipedia.org/wiki/Git). \n",
    "*   Fortran Coding standard as well as style rules are enforced and anyone wishing to contribute to the Community Atmosphere Model must comply to these [contributing guidelines](https://github.com/ESCOMP/CAM/wiki).\n",
    "\n",
    "Useful links:\n",
    "*   [CESM web page](http://www.cesm.ucar.edu/)\n",
    "*   [CESM user's guide](https://escomp.github.io/CESM/release-cesm2/)\n",
    "*   [CESM bulletin board](http://bb.cgd.ucar.edu/)\n",
    "*   [CESM support policy](http://www.cesm.ucar.edu/about/support.html)\n",
    "*   [CESM discuss forum](https://bb.cgd.ucar.edu/cesm/)\n",
    "*   [CESM supported releases](https://csegweb.cgd.ucar.edu/experiments/public/)\n",
    "*   [CESM scientifically validated configurations](http://www.cesm.ucar.edu/models/scientifically-supported.html)\n",
    "*   [Introduction on atmospheric configurations (compsets)](https://ncar.github.io/CAM/doc/build/html/users_guide/atmospheric-configurations.html)\n",
    "*   [CESM2 introduction paper: Danabasoglu et al., 2020](https://agupubs.onlinelibrary.wiley.com/doi/full/10.1029/2019MS001916)"
   ]
  },
  {
   "cell_type": "markdown",
   "metadata": {},
   "source": [
    "### CESM2-WACCM6\n",
    "\n",
    "The Whole Atmosphere Community Climate Model version 6 (WACCM6) is a major update of the whole atmosphere modeling capability in the Community Earth System Model 2 (CESM2), featuring enhanced physical, chemical and aerosol parameterizations. There are improvements in high-latitude climate variability at the surface and sea ice extent in WACCM6 over the lower top version of the Community Atmosphere Model (CAM) that comes from the extended vertical domain and expanded aerosol chemistry in WACCM6, highlighting the importance of the stratosphere and tropospheric chemistry for high-latitude climate variability.\n",
    "\n",
    "*   [WACCM6 introduction paper: Gettelman et al 2019](https://agupubs.onlinelibrary.wiley.com/doi/full/10.1029/2019JD030943)"
   ]
  },
  {
   "cell_type": "markdown",
   "metadata": {},
   "source": [
    "### CESM2-CAM6\n",
    "\n",
    "The 6th phase of the Community Atmosphere Model (CAM6) is the atmospheric component of the CESM2 used in CMIP6. The full description of the CAM6 can be found [here](https://ncar.github.io/CAM/doc/build/html/index.html).  \n",
    "\n",
    "*   [CAM documentation](https://github.com/ESCOMP/CAM/wiki)\n",
    "*   [CAM6 User's Guide](https://ncar.github.io/CAM/doc/build/html/users_guide/index.html)"
   ]
  },
  {
   "cell_type": "markdown",
   "metadata": {},
   "source": [
    "## NorESM\n",
    "\n",
    "The [Norwegian Earth System Model (NorESM)](https://www.noresm.org/) has been developed since 2007 and has been an important tool for Norwegian climate researchers in the study of the past, present and future climate. "
   ]
  },
  {
   "cell_type": "markdown",
   "metadata": {},
   "source": [
    "![NorESM](https://gmd.copernicus.org/articles/13/6165/2020/gmd-13-6165-2020-f01.png) ([Seland et al., 2020](https://gmd.copernicus.org/articles/13/6165/2020/gmd-13-6165-2020.html))"
   ]
  },
  {
   "cell_type": "markdown",
   "metadata": {},
   "source": [
    "The NorESM2 version is part of CMIP6 participating with two different resolutions called NorESM2 with medium (\\~1 deg) and low (~2 deg) resolution in the atmosphere respectively (called NorESM-MM/NorESM-LM in the ESGF data folder).\n",
    "\n",
    "The further development of NorESM will be supported by the [Infrastructure for Norwegian Earth System Modeling](https://www.ines.noresm.org/)(INES)  project.  \n",
    "\n",
    "Useful links:\n",
    "* [NorESM code access](https://github.com/NorESMhub/NorESM)\n",
    "* [NorESM-1 documentation](https://noresm-docs.readthedocs.io/en/noresm1/)\n",
    "* [NorESM-2 documentation](https://noresm-docs.readthedocs.io/en/noresm2/)\n",
    "* [NorESM2 introduction paper: Seland et al 2020](https://gmd.copernicus.org/articles/13/6165/2020/gmd-13-6165-2020.html)"
   ]
  },
  {
   "cell_type": "markdown",
   "metadata": {},
   "source": [
    "### MPI-ESM\n",
    "The Max Planck Institute for Meteorology Earth System Model version 1.2 (MPI-ESM1.2) is the latest model version used in CMIP6, which consists of four model components and a coupler, which are connected as it was done in the predecessor MPI-ESM (Figure 1 in [Giorgetta et al., 2013](https://agupubs.onlinelibrary.wiley.com/doi/full/10.1002/jame.20038))."
   ]
  },
  {
   "cell_type": "markdown",
   "metadata": {},
   "source": [
    "<img src=\"https://agupubs.onlinelibrary.wiley.com/cms/asset/781fb859-abeb-4964-a02e-1928182f9d99/jame20830-fig-0001-m.jpg\" width=600> ([Mauritzen et al 2019](https://agupubs.onlinelibrary.wiley.com/doi/full/10.1029/2018MS001400))"
   ]
  },
  {
   "cell_type": "markdown",
   "metadata": {},
   "source": [
    " \n",
    " MPI-ESM1.2 is part of CMIP6 participating with three different spatial and vertical resolutions in the atmosphere called high, low and coarse resolutions (named MPI-ESM-HR, -LR, -CR in the ESGF data folder). "
   ]
  },
  {
   "cell_type": "markdown",
   "metadata": {},
   "source": [
    "Useful links:\n",
    "*   [MPI-ESM in CMIP6](https://mpimet.mpg.de/en/science/projects/integrated-activities/cmip6)\n",
    "*   [The MPI-ESM special collections](https://agupubs.onlinelibrary.wiley.com/doi/toc/10.1002/(ISSN)1942-2466.MPIESM1)\n",
    "*   [MPI-ESM1.2 CMIP6 introduction paper: Mauritzen et al 2019](https://agupubs.onlinelibrary.wiley.com/doi/full/10.1029/2018MS001400)"
   ]
  },
  {
   "cell_type": "markdown",
   "metadata": {},
   "source": [
    "## UKESM\n",
    "The UK Earth System Model (UKESM) is a new state-of-the-art ESM composed of components that represent both physical and bio-geochemical aspects of the Earth's atmosphere, ocean, cryosphere, and land systems. It is built on the recent Hadley Centre Global Environment Model Version 3 Global Coupled (GC) climate configuration, HadGEM3GC3.1 ([Kuhlbrodt et al., 2018](https://agupubs.onlinelibrary.wiley.com/doi/full/10.1029/2018MS001370); [Williams et al., 2017](https://agupubs.onlinelibrary.wiley.com/doi/full/10.1002/2017MS001115)). "
   ]
  },
  {
   "cell_type": "markdown",
   "metadata": {},
   "source": [
    "<img src=\"https://github.com/MetOs-UiO/GEO4962/blob/gh-pages/fig/UKESM1.jpg?raw=true\" width=600> ([Science-of-UKESM](https://ukesm.ac.uk/science-of-ukesm/))"
   ]
  },
  {
   "cell_type": "markdown",
   "metadata": {},
   "source": [
    "Useful links:\n",
    "*   [UKESM web page](https://ukesm.ac.uk/)\n",
    "*   [UK models for CMIP6](https://ukesm.ac.uk/cmip6/)\n",
    "*   [The UK Earth System Models for CMIP6 special collections](https://agupubs.onlinelibrary.wiley.com/doi/toc/10.1002/(ISSN)1942-2466.UKESM1)"
   ]
  }
 ],
 "metadata": {
  "kernelspec": {
   "display_name": "Python 3",
   "language": "python",
   "name": "python3"
  },
  "language_info": {
   "codemirror_mode": {
    "name": "ipython",
    "version": 3
   },
   "file_extension": ".py",
   "mimetype": "text/x-python",
   "name": "python",
   "nbconvert_exporter": "python",
   "pygments_lexer": "ipython3",
   "version": "3.7.3"
  }
 },
 "nbformat": 4,
 "nbformat_minor": 4
}
