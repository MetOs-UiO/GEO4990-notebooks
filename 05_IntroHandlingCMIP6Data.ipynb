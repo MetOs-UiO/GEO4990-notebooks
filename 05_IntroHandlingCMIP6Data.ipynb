{
 "cells": [
  {
   "cell_type": "markdown",
   "metadata": {},
   "source": [
    "# **Handling CMIP6 Data**"
   ]
  },
  {
   "cell_type": "markdown",
   "metadata": {},
   "source": [
    "An important part of CMIP is to make the multi-model output publicly available in a standardized format for analysis by the wider climate community and users. The standardization of the model output in a specified format, and the collection, archival, and access of the model output through the Earth System Grid Federation ([ESGF](https://esgf.llnl.gov/)) data replication centres have facilitated multi-model analyses.\n",
    "\n",
    "Useful links:\n",
    "* [ESGF CMIP6 data search and download portal](https://esgf-node.llnl.gov/search/cmip6/)\n",
    "* [CMIP6 data request home page](https://clipc-services.ceda.ac.uk/dreq/index.html)\n",
    "* [CMIP6 data frenquency list](https://clipc-services.ceda.ac.uk/dreq/index/miptable.html)\n",
    "* [CMIP6 variables list](https://clipc-services.ceda.ac.uk/dreq/index/var.html)\n",
    "* [CMIP6 data request overview paper: Juckes et al., 2020](https://gmd.copernicus.org/articles/13/201/2020/)"
   ]
  },
  {
   "cell_type": "markdown",
   "metadata": {},
   "source": [
    "## CMIP6 data access in the course Jupyterhub\n",
    "\n",
    "CMIP6 model data (except for NorESM output) can be found in the **shared-tacco-ns1004k-cmip-betzy** folder. \n",
    "- folder structure: shared-tacco-ns1004k-cmip-betzy/model-institute/model-name/experiment/ensemble-member/data-frequency/variable/grid/data-version\n",
    "\n",
    "NorESM model data are stored in the **shared-tacco-ns1004k-cmroot** folder.\n",
    "- folder structure: shared-tacco-ns1004k-cmroot/model-name/experiment/data-version/\n",
    "\n",
    "Data filename format: variable_data-frequency_model-name_experiment_ensemble-member_grid_time-period.nc \n",
    "\n",
    "**Tasks:**\n",
    "1. familiarize yourself with the folder structure \n",
    "2. have a look at the different CMIP6 models\n",
    "3. have a look at the [data frequency list](https://clipc-services.ceda.ac.uk/dreq/index/miptable.html) and [variables](https://clipc-services.ceda.ac.uk/dreq/index/var.html)\n",
    "2. $\\color{red}{\\text{find the file ?? of NorESM...?}}$"
   ]
  },
  {
   "cell_type": "markdown",
   "metadata": {},
   "source": [
    "## netCDF files"
   ]
  },
  {
   "cell_type": "markdown",
   "metadata": {},
   "source": [
    "The CMIP6 model output is stored in netCDF files.<br>\n",
    "\n",
    "**What is a netCDF file?**\n",
    "- netCDF stands for “Network Common Data Form” and is a data format (and set of libraries) which is commonly used to store and share large, array-oriented scientific data. \n",
    "- It is self-describing, portable, metadata friendly and supported by many languages (including python, R, fortran, C/C++, Matlab, NCL, etc.). \n",
    "- It is commonly used for gridded model outputs and related to the HDF and CDF formats, which you might have stumbled upon.\n",
    "\n",
    "**How to inspect a netCDF file?**\n",
    "- As stated above, you can read in the content of netCDF files with many programming languages, but netCDF files are often too big to open directly (with your favorite text editor, for instance). \n",
    "- If you want to only inspect your netCDF file, you can do this using e.g. *ncdump* (a simple browser), *ncview* (a visual browser) or *panoply* (a data viewer).\n",
    "\n",
    "[ncdump](http://www.bic.mni.mcgill.ca/users/sean/Docs/netcdf/guide.txn_79.html#:~:text=The%20ncdump%20tool%20generates%20an,variable%20data%20in%20the%20file.&text=Thus%20ncdump%20and%20ncgen%20can,between%20binary%20and%20ASCII%20representations.) can be used as a simple browser for netCDF data files, to display the dimension names and sizes; variable names, types, and shapes; attribute names and values; and optionally, the values of data for all variables or selected variables in a netCDF file.\n",
    "\n",
    "**Task:**\n",
    "1. Open a terminal in Jupyterhub (File->New->Terminal) and inspect the header of a CMIP6 data file using ncdump."
   ]
  },
  {
   "cell_type": "markdown",
   "metadata": {},
   "source": [
    "## Visualizing CMIP6 data with python"
   ]
  },
  {
   "cell_type": "markdown",
   "metadata": {},
   "source": [
    "**Task:**\n",
    "1. Visualize a 3D field $\\color{red}{\\text{(give NorESM example)}}$ using the skeleton code below. To do so, fill the gaps marked with << >>."
   ]
  },
  {
   "cell_type": "markdown",
   "metadata": {},
   "source": [
    "Firstly, import Python packages that make working with labelled multi-dimensional arrays simple and efficient"
   ]
  },
  {
   "cell_type": "code",
   "execution_count": 4,
   "metadata": {},
   "outputs": [],
   "source": [
    "import xarray as xr\n",
    "import pandas as pd\n",
    "import matplotlib as mpl\n",
    "\n",
    "%matplotlib inline"
   ]
  },
  {
   "cell_type": "markdown",
   "metadata": {},
   "source": [
    "Set the path to the file you want to visualize"
   ]
  },
  {
   "cell_type": "code",
   "execution_count": null,
   "metadata": {},
   "outputs": [],
   "source": [
    "path = << >>\n",
    "filename = path + << >>\n",
    "print(filename)"
   ]
  },
  {
   "cell_type": "markdown",
   "metadata": {},
   "source": [
    "Load netcdf file into an xarray dataset. \\\n",
    "Display the dataset to see the dimensions, coordinates and data variables that can be adressed when reading the dataset.\n"
   ]
  },
  {
   "cell_type": "code",
   "execution_count": null,
   "metadata": {},
   "outputs": [],
   "source": [
    "ds =xr.open_dataset(filename)\n",
    "ds"
   ]
  },
  {
   "cell_type": "markdown",
   "metadata": {},
   "source": [
    "Now we can adress/index the variable of interest via *xarray.Dataset* and use the [isel()](https://docs.xarray.dev/en/stable/generated/xarray.Dataset.isel.html) function to choose the timestep in the dataset."
   ]
  },
  {
   "cell_type": "code",
   "execution_count": null,
   "metadata": {},
   "outputs": [],
   "source": [
    "timestep = 0\n",
    "ds.<< >>.isel(time=timestep).plot()"
   ]
  },
  {
   "cell_type": "markdown",
   "metadata": {},
   "source": [
    "..or the [sel()](https://docs.xarray.dev/en/stable/generated/xarray.Dataset.sel.html) function to label the time explicitely"
   ]
  },
  {
   "cell_type": "code",
   "execution_count": null,
   "metadata": {},
   "outputs": [],
   "source": [
    "timestring = '<< >>'\n",
    "ds.<< >>.sel(time=timestring).plot()"
   ]
  },
  {
   "cell_type": "markdown",
   "metadata": {},
   "source": [
    "**Task:** <br>\n",
    "1. Plot a (slice of a) **4D-field** (e.g. temperature at a specific pressure level instead of near-surface air temperature): <br>"
   ]
  },
  {
   "cell_type": "code",
   "execution_count": 3,
   "metadata": {},
   "outputs": [],
   "source": [
    "# set the path to the corresponding data file, read the file as above and display it's content. Make yourself familiar with the dimensions and variables in the dataset.\n",
    "\n"
   ]
  },
  {
   "cell_type": "code",
   "execution_count": null,
   "metadata": {},
   "outputs": [],
   "source": [
    "# address and plot a slice of your 4D dataset by specifing the vertical dimension, e.g. the pressure level, in isel (in addition to the time specification)\n",
    "\n"
   ]
  },
  {
   "cell_type": "markdown",
   "metadata": {},
   "source": [
    "# **Customize your Maps**\n",
    "\n",
    "## Set Figure Size\n",
    "To adjust the figure, we can use the matplotlib package:"
   ]
  },
  {
   "cell_type": "code",
   "execution_count": null,
   "metadata": {},
   "outputs": [],
   "source": [
    "#import python package\n",
    "import matplotlib as mpl\n",
    "\n",
    "#adjust figure size\n",
    "mpl.rcParams['figure.figsize'] = [10., 8.]\n",
    "ds.<< >>.isel(time=<< >>).plot()"
   ]
  },
  {
   "cell_type": "markdown",
   "metadata": {},
   "source": [
    "## Change the Map Projection\n",
    "We can use the Python package Cartopy to produce maps and do other geospatial data analyses. We will also use pyplot, a collection of functions that make plotting simpler."
   ]
  },
  {
   "cell_type": "code",
   "execution_count": null,
   "metadata": {},
   "outputs": [],
   "source": [
    "import cartopy.crs as ccrs\n",
    "import matplotlib.pyplot as plt\n",
    "\n",
    "fig = plt.figure()\n",
    "ax = plt.axes(projection=ccrs.Miller())\n",
    "\n",
    "ds.<< >>.isel(plev=<< >>,time=<< >>).plot(ax=ax, \n",
    "           transform=ccrs.PlateCarree(),\n",
    "           cmap=load_cmap('broc') \n",
    "          )"
   ]
  },
  {
   "cell_type": "markdown",
   "metadata": {},
   "source": [
    "As you can see on the figure above, axes labels disappear when you change the map projection.You can add gridlines:"
   ]
  },
  {
   "cell_type": "code",
   "execution_count": null,
   "metadata": {},
   "outputs": [],
   "source": [
    "ax.coastlines()"
   ]
  },
  {
   "cell_type": "markdown",
   "metadata": {},
   "source": [
    "On our JupyterHub, an older version of cartopy is installed, where not all projections support lat/lon labelling. The *PlateCarree* and *Mercator* projections do support lat/lon labelling:"
   ]
  },
  {
   "cell_type": "code",
   "execution_count": null,
   "metadata": {},
   "outputs": [],
   "source": [
    "fig = plt.figure(figsize=(15,10))\n",
    "ax = plt.axes(projection=ccrs.Mercator())\n",
    "\n",
    "ds.<< >>.isel(plev=-1,time=0).plot(ax=ax, \n",
    "           transform=ccrs.PlateCarree(),\n",
    "           cmap=load_cmap('broc') \n",
    "          )\n",
    "\n",
    "ax.coastlines()\n",
    "\n",
    "# Add gridlines with labels\n",
    "gl = ax.gridlines(color='lightgrey', linestyle='-', draw_labels=True)\n",
    "\n",
    "# Do not draw labels on the top and right of the map.\n",
    "gl.xlabels_top = False\n",
    "gl.ylabels_right = False"
   ]
  },
  {
   "cell_type": "markdown",
   "metadata": {},
   "source": [
    "# **Georeferenced Latitude-Vertical Plots**\n",
    "\n",
    "## 2D plot for one longitude point\n",
    "Use the sel() function to select the data along one latitude and at one time:"
   ]
  },
  {
   "cell_type": "code",
   "execution_count": null,
   "metadata": {},
   "outputs": [],
   "source": [
    "ds.<< >>.sel(lon=<< >>,time= << >>).plot(cmap=load_cmap('broc'))"
   ]
  },
  {
   "cell_type": "markdown",
   "metadata": {},
   "source": [
    "Having pressure values as the vertical coordinate, it is clear that we need to revert the vertical axis to get the lower values at the top and the highest values at the bottom:"
   ]
  },
  {
   "cell_type": "code",
   "execution_count": null,
   "metadata": {},
   "outputs": [],
   "source": [
    "ds.<< >>.sel(lon=<< >>,time= << >>).plot(cmap=load_cmap('broc'))\n",
    "plt.ylim(plt.ylim()[::-1])"
   ]
  },
  {
   "cell_type": "markdown",
   "metadata": {},
   "source": [
    "For pressure levels, we usually use hPa instead of Pa. Change the pressure levels from Pa to hPa:"
   ]
  },
  {
   "cell_type": "code",
   "execution_count": null,
   "metadata": {},
   "outputs": [],
   "source": [
    "# change pressure level from Pa to hPa within your dataset\n",
    "hpa=ds.<< >>.plev/100\n",
    "ds['plev']=hpa\n",
    "ds.<< >>.plev.attrs['units'] = 'hPa'\n",
    "ds.<< >>.plev.attrs['standard_name'] = 'air_pressure'\n",
    "ds.<< >>.plev\n",
    "\n",
    "# plot\n",
    "ds.<< >>.sel(lon=<< >>,time= << >>)).plot(cmap=load_cmap('broc'))\n",
    "plt.ylim(plt.ylim()[::-1])"
   ]
  },
  {
   "cell_type": "markdown",
   "metadata": {},
   "source": [
    "We can also adjust the top of the figure. When the vertical axis is pressure levels, we can use a log scale to plot it so as to make it more intuitive to look at."
   ]
  },
  {
   "cell_type": "code",
   "execution_count": null,
   "metadata": {},
   "outputs": [],
   "source": [
    "ds.<< >>.sel(lon=<< >>,time= << >>).plot(cmap=load_cmap('broc'))\n",
    "plt.ylim(plt.ylim()[::-1])\n",
    "plt.ylim(top=0.001)\n",
    "plt.yscale('log')"
   ]
  },
  {
   "cell_type": "markdown",
   "metadata": {},
   "source": [
    "## 2D plot over averaged longitudes"
   ]
  },
  {
   "cell_type": "markdown",
   "metadata": {},
   "source": [
    "Instead of selecting one longitude, we can also average over all the longitudes, using the mean function:"
   ]
  },
  {
   "cell_type": "code",
   "execution_count": null,
   "metadata": {},
   "outputs": [],
   "source": [
    "ds.<< >>.sel(time=<< >>).mean(dim='lon').plot(cmap=load_cmap('broc'))\n",
    "plt.ylim(plt.ylim()[::-1])"
   ]
  }
 ],
 "metadata": {
  "kernelspec": {
   "display_name": "Python 3",
   "language": "python",
   "name": "python3"
  },
  "language_info": {
   "codemirror_mode": {
    "name": "ipython",
    "version": 3
   },
   "file_extension": ".py",
   "mimetype": "text/x-python",
   "name": "python",
   "nbconvert_exporter": "python",
   "pygments_lexer": "ipython3",
   "version": "3.7.3"
  }
 },
 "nbformat": 4,
 "nbformat_minor": 4
}
