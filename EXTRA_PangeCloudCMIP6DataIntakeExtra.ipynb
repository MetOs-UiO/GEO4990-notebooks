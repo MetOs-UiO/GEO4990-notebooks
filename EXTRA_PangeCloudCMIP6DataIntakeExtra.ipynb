{
 "cells": [
  {
   "cell_type": "markdown",
   "id": "d8e86f7b",
   "metadata": {},
   "source": [
    "# **Accessing CMIP6 catalogs with intake-esm**\n",
    "\n",
    "This notebook is useful if you want to use data that is not represented in the shared folders on the jupyterhub.\n",
    "\n",
    "First, load `intake` and `intake-esm` \n",
    "(We will also need to suppress some annoying future warnings)."
   ]
  },
  {
   "cell_type": "code",
   "execution_count": null,
   "id": "28946901",
   "metadata": {},
   "outputs": [],
   "source": [
    "import intake\n",
    "import intake_esm\n",
    "import warnings\n",
    "warnings.filterwarnings(\"ignore\", category=FutureWarning)"
   ]
  },
  {
   "cell_type": "markdown",
   "id": "cd37834f",
   "metadata": {},
   "source": [
    "\n",
    "\n",
    "Then, you can open a catalog file from a known dataset, f.e. [Pangeo CMIP6 google cloud](https://pangeo-data.github.io/pangeo-cmip6-cloud/)\n",
    "\n"
   ]
  },
  {
   "cell_type": "code",
   "execution_count": null,
   "id": "a6a49ba8",
   "metadata": {},
   "outputs": [],
   "source": [
    "cat = intake.open_esm_datastore(\"https://storage.googleapis.com/cmip6/pangeo-cmip6.json\")\n",
    "cat"
   ]
  },
  {
   "cell_type": "markdown",
   "id": "66cb8309",
   "metadata": {},
   "source": [
    "The summary above tells us that this catalog contains 7674 data assets. You can get more information on the individual data assets contained in the catalog by looking at the underlying dataframe created when we load the catalog:"
   ]
  },
  {
   "cell_type": "code",
   "execution_count": null,
   "id": "483bd821",
   "metadata": {},
   "outputs": [],
   "source": [
    "cat.df.head()"
   ]
  },
  {
   "cell_type": "markdown",
   "id": "cfbf4aeb",
   "metadata": {},
   "source": [
    "## Finding unique entries\n",
    "To get unique values for given columns in the catalog, intake-esm provides a unique() method:\n",
    "\n",
    "Let’s query the data catalog to see what models(source_id), experiments (experiment_id) and temporal frequencies (table_id) are available."
   ]
  },
  {
   "cell_type": "code",
   "execution_count": null,
   "id": "afe2393a",
   "metadata": {},
   "outputs": [],
   "source": [
    "unique = cat.unique()\n",
    "unique"
   ]
  },
  {
   "cell_type": "code",
   "execution_count": null,
   "id": "04afe046",
   "metadata": {},
   "outputs": [],
   "source": [
    "unique['source_id']"
   ]
  },
  {
   "cell_type": "code",
   "execution_count": null,
   "id": "c8a646ce",
   "metadata": {},
   "outputs": [],
   "source": [
    "unique['experiment_id']"
   ]
  },
  {
   "cell_type": "code",
   "execution_count": null,
   "id": "657e2c6e",
   "metadata": {},
   "outputs": [],
   "source": [
    "unique['table_id']"
   ]
  },
  {
   "cell_type": "markdown",
   "id": "b83457c3",
   "metadata": {},
   "source": [
    "The `search()` method allows the user to perform a query on a catalog using keyword arguments. The keyword argument names must match column names in the catalog. The search method returns a subset of the catalog with all the entries that match the provided query.\n",
    "\n",
    "In the example below, we are going to search for the following:\n",
    "\n",
    "* source: `CESM2` model\n",
    "* experiment: `historical`\n",
    "* member: `r1ip1f1` ensemble member\n",
    "* table: `Lmon` Land monthly\n",
    "* variable: `tsl` Temperature of a soil layer °K\n",
    "\n"
   ]
  },
  {
   "cell_type": "code",
   "execution_count": null,
   "id": "3517e073",
   "metadata": {},
   "outputs": [],
   "source": [
    "cat_subset = cat.search(\n",
    "    source_id = \"CESM2\",\n",
    "    experiment_id = \"historical\",\n",
    "    member_id = \"r1i1p1f1\",\n",
    "    table_id = \"Lmon\",\n",
    "    variable_id = \"tsl\"\n",
    ")"
   ]
  },
  {
   "cell_type": "markdown",
   "id": "ff7b9309",
   "metadata": {},
   "source": [
    "We will get 1 dataset, however, you can supply lists to the `search()` keyword arguments, f.e. `experiment_id=[\"historical\",\"ssp585\"]`."
   ]
  },
  {
   "cell_type": "code",
   "execution_count": null,
   "id": "c14257a3",
   "metadata": {},
   "outputs": [],
   "source": [
    "cat_subset"
   ]
  },
  {
   "cell_type": "markdown",
   "id": "17e9e224",
   "metadata": {},
   "source": [
    "Intake-esm implements convenience utilities for loading the query results into higher level xarray datasets. The logic for merging/concatenating the query results into higher level xarray datasets is provided in the input JSON file and is available under `.aggregation_info` property of the catalog:"
   ]
  },
  {
   "cell_type": "code",
   "execution_count": null,
   "id": "f1ce42ac",
   "metadata": {},
   "outputs": [],
   "source": [
    "cat.esmcat.aggregation_control"
   ]
  },
  {
   "cell_type": "markdown",
   "id": "8819441f",
   "metadata": {},
   "source": [
    "Now, let's load some extra modules"
   ]
  },
  {
   "cell_type": "code",
   "execution_count": null,
   "id": "b9507c11",
   "metadata": {},
   "outputs": [],
   "source": [
    "import xarray\n",
    "import gcsfs"
   ]
  },
  {
   "cell_type": "markdown",
   "id": "c69d0a26",
   "metadata": {},
   "source": [
    "And open our dataset as a dictionary of xarray.Dataset's, wait until the bar is 100%."
   ]
  },
  {
   "cell_type": "code",
   "execution_count": null,
   "id": "fb66d311",
   "metadata": {},
   "outputs": [],
   "source": [
    "dset_dict = cat_subset.to_dataset_dict(\n",
    "    xarray_open_kwargs={\"consolidated\": True, \"decode_times\": True, \"use_cftime\": True},\n",
    ")\n"
   ]
  },
  {
   "cell_type": "code",
   "execution_count": null,
   "id": "79368b0b",
   "metadata": {},
   "outputs": [],
   "source": [
    "[key for key in dset_dict.keys()]\n"
   ]
  },
  {
   "cell_type": "markdown",
   "id": "a3d16d1c",
   "metadata": {},
   "source": [
    "Now, lets take one value from the dictionary and plot something."
   ]
  },
  {
   "cell_type": "code",
   "execution_count": null,
   "id": "9f80fe25",
   "metadata": {},
   "outputs": [],
   "source": [
    "ds = dset_dict['CMIP.NCAR.CESM2.historical.Lmon.gn']\n",
    "ds"
   ]
  },
  {
   "cell_type": "markdown",
   "id": "2bb405f1",
   "metadata": {},
   "source": [
    "Now we will convert soil temperatures to Celsius within the same dataset:"
   ]
  },
  {
   "cell_type": "markdown",
   "id": "267332f8",
   "metadata": {},
   "source": [
    "We can pass the variable from the dataset into an xarray.DataArray and plot it. Plus we can convert the units."
   ]
  },
  {
   "cell_type": "code",
   "execution_count": null,
   "id": "21cd9163",
   "metadata": {},
   "outputs": [],
   "source": [
    "tsl=ds.tsl.sel(time=slice(\"2000-01\",\"2000-12\")).sel(depth=3.0, method=\"nearest\").mean(dim='time',keep_attrs=True)\n",
    "tsl.values=tsl.values-273.15\n",
    "attrs = tsl.attrs\n",
    "attrs.update({\"units\" : \"C\"})\n",
    "tsl.attrs=attrs\n",
    "tsl.plot(robust=True)\n"
   ]
  },
  {
   "cell_type": "markdown",
   "id": "6768b374",
   "metadata": {},
   "source": [
    "We can also load cartopy and make a better plot with a contour denoting extent of frozen ground in the northern hemisphere."
   ]
  },
  {
   "cell_type": "code",
   "execution_count": null,
   "id": "2ed9fde8",
   "metadata": {},
   "outputs": [],
   "source": [
    "import cartopy.crs as ccrs"
   ]
  },
  {
   "cell_type": "code",
   "execution_count": null,
   "id": "d7f720de",
   "metadata": {},
   "outputs": [],
   "source": [
    "p = tsl.squeeze(drop=True).plot(subplot_kws=dict(projection=ccrs.NorthPolarStereo(), facecolor=\"white\"), transform=ccrs.PlateCarree(),)\n",
    "p.axes.gridlines()\n",
    "p.axes.coastlines()\n",
    "c = tsl.squeeze(drop=True).plot.contour(ax=p.axes,levels=[0],colors='blue',transform=ccrs.PlateCarree())\n",
    "p.axes.set_extent((-180,180,45,90),ccrs.PlateCarree())\n"
   ]
  }
 ],
 "metadata": {
  "kernelspec": {
   "display_name": "Python 3 (ipykernel)",
   "language": "python",
   "name": "python3"
  },
  "language_info": {
   "codemirror_mode": {
    "name": "ipython",
    "version": 3
   },
   "file_extension": ".py",
   "mimetype": "text/x-python",
   "name": "python",
   "nbconvert_exporter": "python",
   "pygments_lexer": "ipython3",
   "version": "3.11.4"
  }
 },
 "nbformat": 4,
 "nbformat_minor": 5
}
