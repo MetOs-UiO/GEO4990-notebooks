{
 "cells": [
  {
   "cell_type": "markdown",
   "metadata": {},
   "source": [
    "# Model lab – Ocean Exercise\n",
    "\n",
    "## Do CMIP6 models simulate the El Niño–Southern Oscillation (ENSO) variability?\n",
    "\n"
   ]
  },
  {
   "cell_type": "code",
   "execution_count": null,
   "metadata": {},
   "outputs": [],
   "source": [
    "import xarray as xr\n",
    "import pandas as pd\n",
    "import matplotlib.pyplot as plt\n",
    "import os\n",
    "import numpy as np\n",
    "\n",
    "%matplotlib inline"
   ]
  },
  {
   "cell_type": "markdown",
   "metadata": {},
   "source": [
    "### Find the right variables for analysis: SST - sea surface temperature. Choose the model to analyse.\n",
    "\n",
    "<details>\n",
    "    <summary>Hint</summary>\n",
    "You can look it up <a href=\"https://clipc-services.ceda.ac.uk/dreq/index/var.html\">here</a> or in <a href=\"https://github.com/PCMDI/cmip6-cmor-tables\">CMOR-tables</a> or  <a href=\"https://clipc-services.ceda.ac.uk/dreq/mipVars.html\">MPI-variables</a>\n",
    "</details>"
   ]
  },
  {
   "cell_type": "code",
   "execution_count": null,
   "metadata": {},
   "outputs": [],
   "source": []
  },
  {
   "cell_type": "markdown",
   "metadata": {},
   "source": [
    "### Read the data for the correct period (1850-2014)"
   ]
  },
  {
   "cell_type": "code",
   "execution_count": null,
   "metadata": {},
   "outputs": [],
   "source": []
  },
  {
   "cell_type": "markdown",
   "metadata": {},
   "source": [
    "### Calculate Nino SST Indices (Nino 1+2, 3, 3.4, 4; ONI and TNI)\n",
    "\n",
    "<details>\n",
    "    <summary>Hint</summary>\n",
    "You can look up  definitions <a href=\"https://climatedataguide.ucar.edu/climate-data/nino-sst-indices-nino-12-3-34-4-oni-and-tni\">here</a> and <a href=\"https://www.climate.gov/news-features/understanding-climate/climate-variability-oceanic-nino-index\">here</a>.\n",
    "</details>"
   ]
  },
  {
   "cell_type": "code",
   "execution_count": null,
   "metadata": {},
   "outputs": [],
   "source": []
  },
  {
   "cell_type": "markdown",
   "id": "495784b0-d033-415e-b11a-5d6fac586890",
   "metadata": {},
   "source": [
    "#### Calculate climatology, then subtract the climatology from the mean to find the anomaly."
   ]
  },
  {
   "cell_type": "code",
   "execution_count": null,
   "id": "93537441-aa22-4302-b53e-6b84164675b1",
   "metadata": {},
   "outputs": [],
   "source": []
  },
  {
   "cell_type": "markdown",
   "id": "230fac82-1542-4b18-9dd7-1b01e10ee2ac",
   "metadata": {},
   "source": [
    "#### Selecting Niño 3.4 data, which makes use of the where() method:"
   ]
  },
  {
   "cell_type": "code",
   "execution_count": 8,
   "id": "49088cde-bec1-43a6-958e-16a631c4a511",
   "metadata": {},
   "outputs": [],
   "source": [
    "ocean_surface_temp_nino34 = tos.sel(lat=slice(-5, 5), lon=slice(190, 240))\n",
    "ocean_surface_temp_nino34 = tos.where((tos.lat < 5) & (tos.lat > -5) & (tos.lon > 190) & (tos.lon < 240), drop=True)"
   ]
  },
  {
   "cell_type": "markdown",
   "id": "bf0cbeda-d3d3-444e-b2f0-8cf0ec2907bd",
   "metadata": {},
   "source": []
  },
  {
   "cell_type": "markdown",
   "metadata": {},
   "source": [
    "### Plot anomalies"
   ]
  },
  {
   "cell_type": "code",
   "execution_count": null,
   "metadata": {},
   "outputs": [],
   "source": []
  }
 ],
 "metadata": {
  "kernelspec": {
   "display_name": "Python 3 (ipykernel)",
   "language": "python",
   "name": "python3"
  },
  "language_info": {
   "codemirror_mode": {
    "name": "ipython",
    "version": 3
   },
   "file_extension": ".py",
   "mimetype": "text/x-python",
   "name": "python",
   "nbconvert_exporter": "python",
   "pygments_lexer": "ipython3",
   "version": "3.11.4"
  }
 },
 "nbformat": 4,
 "nbformat_minor": 5
}
