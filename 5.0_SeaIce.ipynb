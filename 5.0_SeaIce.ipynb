{
 "cells": [
  {
   "cell_type": "markdown",
   "metadata": {},
   "source": [
    "# Model lab – Sea Ice\n",
    "\n",
    "## How do sea ice concentration change in CMIP6 SSP585 wrt historical experiment?\n"
   ]
  },
  {
   "cell_type": "code",
   "execution_count": 3,
   "id": "17d3f2e3-a596-450f-b7f3-55dd5988fa8f",
   "metadata": {},
   "outputs": [],
   "source": [
    "import xarray as xr\n",
    "import matplotlib as mpl\n",
    "import matplotlib.pyplot as plt\n",
    "import numpy as np\n",
    "import cartopy.crs as ccrs\n",
    "from glob import glob\n",
    "import os\n",
    "import psutil\n",
    "from cdo import Cdo   # python version\n",
    "cdo = Cdo()\n",
    "%matplotlib inline\n"
   ]
  },
  {
   "cell_type": "markdown",
   "metadata": {},
   "source": [
    "### Find the right variables for analysis: Sea ice concentration. Choose a model to analyse.\n",
    "\n",
    "<details>\n",
    "    <summary>Hint</summary>\n",
    "You can look it up <a href=\"https://clipc-services.ceda.ac.uk/dreq/index/var.html\">here</a> or in <a href=\"https://github.com/PCMDI/cmip6-cmor-tables\">CMOR-tables</a> or  <a href=\"https://clipc-services.ceda.ac.uk/dreq/mipVars.html\">MPI-variables</a>\n",
    "</details>"
   ]
  },
  {
   "cell_type": "code",
   "execution_count": 7,
   "id": "c8af3c58-cd4a-4244-966a-6d47d40bb738",
   "metadata": {},
   "outputs": [],
   "source": []
  },
  {
   "cell_type": "markdown",
   "metadata": {},
   "source": [
    "### Read data for historical period and SSP5-85. \n",
    "<details>\n",
    "    <summary>Hint</summary>\n",
    "If you choose the data on a model native grid, you might want to regrid it with `nco` or `xesmf`\n",
    "</details>"
   ]
  },
  {
   "cell_type": "code",
   "execution_count": null,
   "metadata": {},
   "outputs": [],
   "source": []
  },
  {
   "cell_type": "markdown",
   "metadata": {},
   "source": [
    "### Plot Arctic (& Antarctic) sea ice concentration in March and September, 1981-2010 average and 2050\n",
    "\n",
    "<details>\n",
    "    <summary>Hint</summary>\n",
    "    Use `ccrs.NorthPolarStereo()` and `ccrs.NorthPolarStereo()` for projections\n",
    "</details>"
   ]
  },
  {
   "cell_type": "code",
   "execution_count": null,
   "metadata": {},
   "outputs": [],
   "source": []
  },
  {
   "cell_type": "markdown",
   "metadata": {},
   "source": [
    "### Plot Arctic (& Antarctic) sea ice edge in March and September, 1981-2010 average and 2050\n",
    "\n",
    "<details>\n",
    "    <summary>Hint</summary>\n",
    "\n",
    "  You can set a threshold: `some_threshold = 15`\n",
    "  <br>\n",
    "  And use `ax.contour(data, levels=np.array([some_threshold]),...)`\n",
    "</details>"
   ]
  },
  {
   "cell_type": "code",
   "execution_count": null,
   "metadata": {},
   "outputs": [],
   "source": []
  }
 ],
 "metadata": {
  "kernelspec": {
   "display_name": "Python 3 (ipykernel)",
   "language": "python",
   "name": "python3"
  },
  "language_info": {
   "codemirror_mode": {
    "name": "ipython",
    "version": 3
   },
   "file_extension": ".py",
   "mimetype": "text/x-python",
   "name": "python",
   "nbconvert_exporter": "python",
   "pygments_lexer": "ipython3",
   "version": "3.11.4"
  }
 },
 "nbformat": 4,
 "nbformat_minor": 5
}
