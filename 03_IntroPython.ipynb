{
 "cells": [
  {
   "cell_type": "markdown",
   "metadata": {},
   "source": [
    "# **Python**"
   ]
  },
  {
   "cell_type": "markdown",
   "metadata": {},
   "source": [
    "## What is Python?\n",
    "\n",
    "[Python](https://www.python.org) is a general-purpose programming language conceived in 1989 by Dutch programmer [Guido van Rossum](https://en.wikipedia.org/wiki/Guido_van_Rossum).\n",
    "\n",
    "Python is free and open source, with development coordinated through the [Python Software Foundation](https://www.python.org/psf/).\n",
    "\n",
    "Python has experienced rapid adoption in the last decade and is now one of the most commonly used programming languages.\n",
    "\n",
    "Python is particularly popular within the scientific and data science communities.\n",
    "\n",
    "Popular textbooks on Python programming include `Guttag, 2016` (John Guttag. Introduction to computation and programming using Python: With application to understanding data. MIT Press, 2016.) and `Hill, 2016` (Christian Hill. Learning scientific programming with python. Cambridge University Press, 2016.).\n"
   ]
  },
  {
   "cell_type": "markdown",
   "metadata": {},
   "source": [
    "### Features\n",
    "\n",
    "Python is a [high-level language](https://en.wikipedia.org/wiki/High-level_programming_language)\n",
    "suitable for rapid development.\n",
    "\n",
    "It has a relatively small core language supported by many libraries.\n",
    "\n",
    "Multiple programming styles are supported (procedural, object-oriented, functional, etc.)\n",
    "\n",
    "Python is interpreted rather than compiled."
   ]
  },
  {
   "cell_type": "markdown",
   "metadata": {},
   "source": [
    "### Scientific Programming\n",
    "\n",
    "Python has become one of the core languages of scientific computing.\n",
    "\n",
    "It is either the dominant player or a major player in\n",
    "\n",
    "-   [machine learning and data science](http://scikit-learn.org/stable/)\n",
    "-   [astronomy](http://www.astropy.org/)\n",
    "-   [artificial intelligence](https://wiki.python.org/moin/PythonForArtificialIntelligence)\n",
    "-   [chemistry](http://chemlab.github.io/chemlab/)\n",
    "-   [computational biology](http://biopython.org/wiki/Main_Page)\n",
    "-   [meteorology](https://pypi.org/project/meteorology/)"
   ]
  },
  {
   "cell_type": "markdown",
   "metadata": {},
   "source": [
    "### Useful links for learning Python\n",
    "- [Programming in Python](http://swcarpentry.github.io/python-novice-inflammation/)\n",
    "- [Python for Atmosphere and Ocean Scientists](https://carpentrieslab.github.io/python-aos-lesson/)\n",
    "- [Working with Spatio-temporal data in Python](https://annefou.github.io/metos_python/)\n",
    "- [Reproducible research with Interactive Jupyter Dashboards](https://annefou.github.io/jupyter_dashboards/)\n",
    "- [Making a lat-lon reference plot](https://climate-cms.org/2018/05/01/latlon-reference.html)\n",
    "- [Understanding the transform and projection keywords](https://scitools.org.uk/cartopy/docs/v0.16/tutorials/understanding_transform.html)\n",
    "- [Basic plotting of CMIP5 data](https://climate-cms.org/2018/04/19/plotting-basics.html)\n",
    "- [Introduction to python with xarray](http://meteo.unican.es/work/xarray_seminar/xArray_seminar.html)\n",
    "- [Rename pandas dataframe columns](https://pandas.pydata.org/pandas-docs/stable/generated/pandas.DataFrame.rename.html)\n",
    "- [Append Pandas dataframes](https://pandas.pydata.org/pandas-docs/stable/generated/pandas.DataFrame.append.html)\n",
    "- [select rows and columns in Pandas DataFrames](https://www.shanelynn.ie/select-pandas-dataframe-rows-and-columns-using-iloc-loc-and-ix/)\n",
    "- [Replacing values in Pandas](https://chrisalbon.com/python/data_wrangling/pandas_replace_values/)\n",
    "- [Dropping columns in a Pandas dataframe](https://chrisalbon.com/python/data_wrangling/pandas_dropping_column_and_rows/)\n",
    "- [Xarray: Calculating Seasonal Averages from Timeseries of Monthly Means](http://xarray.pydata.org/en/stable/examples/monthly-means.html)\n",
    "- [Xarray Plotting](http://xarray.pydata.org/en/stable/plotting.html)\n",
    "- [Xarray indexing and selecting](http://xarray.pydata.org/en/stable/indexing.html)\n",
    "- [Intermediate Python III: Xarray for Multidimensional Data](https://rabernat.github.io/research_computing/xarray.html)"
   ]
  },
  {
   "cell_type": "markdown",
   "metadata": {},
   "source": [
    "### Make your python codes more readable and more efficient\n",
    "\n",
    "- [Improve your python programming using python classes and Object Oriented programming](https://jeffknupp.com/blog/2017/03/27/improve-your-python-python-classes-and-object-oriented-programming/)\n",
    "- [Using xarray and dask with netCDF data](https://geohackweek.github.io/nDarrays/)\n",
    "- [Memory usage: Real and Lazy data with iris](https://scitools.org.uk/iris/docs/latest/userguide/real_and_lazy_data.html)\n",
    "- [Memory Profiler](https://timothymonteath.com/monitoring-memory-usage-in-jupyter-notebooks/)"
   ]
  },
  {
   "cell_type": "markdown",
   "metadata": {},
   "source": [
    "### Customize your plots\n",
    "\n",
    "- [Customizing colorbars](https://jakevdp.github.io/PythonDataScienceHandbook/04.07-customizing-colorbars.html)\n",
    "- [Adjust subplots](https://matplotlib.org/api/_as_gen/matplotlib.pyplot.subplots_adjust.html)\n",
    "- [Cartopy map gridlines and tick labels](https://scitools.org.uk/cartopy/docs/v0.13/matplotlib/gridliner.html)\n",
    "- [tick labels example](https://scitools.org.uk/cartopy/docs/v0.15/examples/tick_labels.html)\n",
    "- [Making subplots](https://climate-cms.org/2018/04/27/subplots.html)\n",
    "- [Overlap with contour hatching](https://matplotlib.org/gallery/images_contours_and_fields/contourf_hatching.html#sphx-glr-gallery-images-contours-and-fields-contourf-hatching-py)"
   ]
  },
  {
   "cell_type": "markdown",
   "metadata": {},
   "source": [
    "### Distribute your code\n",
    "\n",
    "- [How to package your python code with Pypi](https://github.com/bast/pypi-howto)\n",
    "- [Software Licensing](https://coderefinery.github.io/reproducible-research/)\n",
    "- [Automating testing](https://coderefinery.github.io/testing/)\n",
    "- [Code documentation](https://coderefinery.github.io/documentation/)"
   ]
  },
  {
   "cell_type": "markdown",
   "metadata": {},
   "source": []
  },
  {
   "cell_type": "markdown",
   "metadata": {},
   "source": [
    "## Importing External Scripts"
   ]
  },
  {
   "cell_type": "code",
   "execution_count": null,
   "metadata": {},
   "outputs": [],
   "source": [
    "%run"
   ]
  },
  {
   "cell_type": "markdown",
   "metadata": {},
   "source": [
    "## Customizing Plots"
   ]
  },
  {
   "cell_type": "markdown",
   "metadata": {},
   "source": [
    "Set Figure Size"
   ]
  },
  {
   "cell_type": "markdown",
   "metadata": {},
   "source": [
    "Scientific Colormaps"
   ]
  },
  {
   "cell_type": "markdown",
   "metadata": {},
   "source": [
    "Maps"
   ]
  },
  {
   "cell_type": "markdown",
   "metadata": {},
   "source": [
    "Several Plots"
   ]
  },
  {
   "cell_type": "code",
   "execution_count": 1,
   "metadata": {},
   "outputs": [],
   "source": [
    "# to save the output (.e.g. plots) of cells in the notebook even if you close it, call this function in the header of your \n",
    "%matplotlib inline"
   ]
  },
  {
   "cell_type": "code",
   "execution_count": null,
   "metadata": {},
   "outputs": [],
   "source": []
  }
 ],
 "metadata": {
  "kernelspec": {
   "display_name": "Python 3",
   "language": "python",
   "name": "python3"
  },
  "language_info": {
   "codemirror_mode": {
    "name": "ipython",
    "version": 3
   },
   "file_extension": ".py",
   "mimetype": "text/x-python",
   "name": "python",
   "nbconvert_exporter": "python",
   "pygments_lexer": "ipython3",
   "version": "3.7.3"
  }
 },
 "nbformat": 4,
 "nbformat_minor": 4
}
