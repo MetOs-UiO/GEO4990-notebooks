{
 "cells": [
  {
   "cell_type": "markdown",
   "metadata": {},
   "source": [
    "# **Welcome to the Model Labs!**"
   ]
  },
  {
   "cell_type": "markdown",
   "metadata": {},
   "source": [
    "All labs will be conducted directly in JupyterHub. You can find additional ressources and summaries on [the course canvas page](https://uio.instructure.com/courses/48334) and on the [model lab webpage]()."
   ]
  },
  {
   "cell_type": "markdown",
   "metadata": {},
   "source": [
    "## JupyterHub\n",
    "\n",
    "[JupyterHub](https://jupyter.org/hub) is a multi-user system that gives access to computational environments and ressources. All hard- and software you need is pre-installed, and you can find all the data you need here. \n",
    "\n",
    "After login, you can get access to the computing environment. You can use the terminal and other pre-installed software within this environment, e.g. python in our case. \n",
    "\n",
    "You also have storage within the computing environment, which is only accessable by you and the course administrators. Your *home* is visible on the left. It contains a folder *modellab* with the Notebooks for each week's model lab, and folders that contain data you will need for the assignments."
   ]
  },
  {
   "cell_type": "markdown",
   "metadata": {},
   "source": [
    "### Setup instructions for accessing Jupyterhub\n",
    "- You should have received an info email containing an invitation link. If not please request it from the course organizers.\n",
    "- Follow the invitation link in the email message\n",
    "- Log in with your University of Oslo Feide account\n",
    "- Accept the policies and agree to become a member of the group **GEO4990**\n",
    "- Now go to [GEO4990 Jupyterhub](https://geo4990.tacco.sigma2.no/)\n",
    "- Log in with your University of Oslo Feide account\n",
    "- You should now be logged in to the JupyterHub in your web browser!"
   ]
  },
  {
   "cell_type": "markdown",
   "metadata": {},
   "source": [
    "**IMPORTANT:** Make sure to stop your server once you have finished your session to release resources. Go to *File->Hub Control Panel -> Stop my Server* <br>\n"
   ]
  },
  {
   "cell_type": "markdown",
   "metadata": {},
   "source": [
    "## The JupyterLab Interface\n",
    "\n",
    "After login to the Jupyterhub, you will get to the web-based user interface for Project Jupyter that is called [JupyterLab](https://jupyterlab.readthedocs.io/en/stable/).\n",
    "\n",
    "Layout of the JupyterLab:\n",
    "- The **menu bar** can be found at the top of the JupyterLab, which includes File, Edit, View, Run etc available actions.\n",
    "- The **Left sidebar** contains a number of commonly-used tabs, such as a file browser, a list of running kernels and terminals etc. \n",
    "- The **Right side panel** is the *Launcher*, in which you can start a Python 3 Jupyter notebook or launch a terminal. \n",
    "    - Tips 1: If the **Launcher** tab does not exist anymore in your JupyterLab, you can start a new one in \"**File** --> **New Launcher**\".\n",
    "    - Tips 2: To open a new notebook, you can also go to **File->New->Notebook**.\n",
    "\n",
    "You will be guided through the model labs with **Jupyter notebooks**, and this is also where you will work on your model projects."
   ]
  }
 ],
 "metadata": {
  "kernelspec": {
   "display_name": "Python 3",
   "language": "python",
   "name": "python3"
  },
  "language_info": {
   "codemirror_mode": {
    "name": "ipython",
    "version": 3
   },
   "file_extension": ".py",
   "mimetype": "text/x-python",
   "name": "python",
   "nbconvert_exporter": "python",
   "pygments_lexer": "ipython3",
   "version": "3.8.6"
  }
 },
 "nbformat": 4,
 "nbformat_minor": 4
}
