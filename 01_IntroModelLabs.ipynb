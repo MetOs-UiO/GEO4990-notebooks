{
 "cells": [
  {
   "cell_type": "markdown",
   "metadata": {},
   "source": [
    "# **Welcome to the Model Labs!**"
   ]
  },
  {
   "cell_type": "markdown",
   "metadata": {},
   "source": [
    "All labs will be conducted directly in JupyterHub. You can find additional ressources and summaries on [the course canvas page](https://uio.instructure.com/courses/48334) and on the [model lab webpage]()."
   ]
  },
  {
   "cell_type": "markdown",
   "metadata": {},
   "source": [
    "## JupyterHub\n",
    "\n",
    "[JupyterHub](https://jupyter.org/hub) is a multi-user system that gives access to computational environments and ressources. All hard- and software you need is pre-installed, and you can find all the data you need here. \n",
    "\n",
    "Through login with your university Feide account, you can get access to the computing environment. You can use the terminal and other pre-installed software within this environment, e.g. python in our case. Upon launch, you will see a *Launcher*, through which you can launch a terminal or open a new Jupyrter Notebook. You will be guided through the model labs in Jupyter Notebooks, and this is also where you will work on your model projects.\n",
    "\n",
    "You also have storage within the computing environment, which is only accessable by you and the course administrators. Your *home* is visible on the left. It contains a folder *modellab* with the Notebooks for each week's model lab, and folders that contain data you will need for the assignments.\n",
    "\n",
    "To open a new file, you can also go to e.g. *File->New->Notebook*."
   ]
  },
  {
   "cell_type": "markdown",
   "metadata": {},
   "source": [
    "**IMPORTANT:** Make sure to stop your server once you have finished your session to release resources. Go to *File->Hub Control Panel -> Stop my Server* <br>\n"
   ]
  }
 ],
 "metadata": {
  "kernelspec": {
   "display_name": "Python 3",
   "language": "python",
   "name": "python3"
  },
  "language_info": {
   "codemirror_mode": {
    "name": "ipython",
    "version": 3
   },
   "file_extension": ".py",
   "mimetype": "text/x-python",
   "name": "python",
   "nbconvert_exporter": "python",
   "pygments_lexer": "ipython3",
   "version": "3.7.3"
  }
 },
 "nbformat": 4,
 "nbformat_minor": 4
}
